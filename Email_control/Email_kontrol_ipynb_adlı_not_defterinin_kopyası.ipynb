{
  "nbformat": 4,
  "nbformat_minor": 0,
  "metadata": {
    "colab": {
      "provenance": []
    },
    "kernelspec": {
      "name": "python3",
      "display_name": "Python 3"
    },
    "language_info": {
      "name": "python"
    }
  },
  "cells": [
    {
      "cell_type": "code",
      "execution_count": null,
      "metadata": {
        "id": "UYIeIGsJCKw7",
        "colab": {
          "base_uri": "https://localhost:8080/"
        },
        "outputId": "292afe79-cb09-470d-9b7b-9bacff0d7895"
      },
      "outputs": [
        {
          "output_type": "stream",
          "name": "stdout",
          "text": [
            "Requirement already satisfied: joblib in /usr/local/lib/python3.11/dist-packages (1.4.2)\n",
            "Collecting colorama\n",
            "  Downloading colorama-0.4.6-py2.py3-none-any.whl.metadata (17 kB)\n",
            "Downloading colorama-0.4.6-py2.py3-none-any.whl (25 kB)\n",
            "Installing collected packages: colorama\n",
            "Successfully installed colorama-0.4.6\n",
            "Drive already mounted at /content/drive; to attempt to forcibly remount, call drive.mount(\"/content/drive\", force_remount=True).\n",
            "/content/drive/MyDrive/Colab Notebooks/Phishing_Email.csv\n"
          ]
        }
      ],
      "source": [
        "from google.colab import drive\n",
        "!pip install joblib\n",
        "!pip install colorama\n",
        "import pandas as pd\n",
        "from sklearn.model_selection import train_test_split\n",
        "from tensorflow.keras.models import Sequential\n",
        "from keras.layers import SimpleRNN,Dense\n",
        "from keras.utils import to_categorical\n",
        "import joblib\n",
        "from colorama import Fore,Back,Style\n",
        "\n",
        "\n",
        "drive.mount('/content/drive')\n",
        "model_yolu='/content/drive/My Drive/AI_Bootcamp/rnn.h5'\n",
        "veri_yol=\"/content/drive/MyDrive/Colab Notebooks/Phishing_Email.csv\"\n",
        "print(veri_yol)"
      ]
    },
    {
      "cell_type": "code",
      "source": [
        "mail_verisi = pd.read_csv(veri_yol)\n",
        "mail_verisi = mail_verisi.where((pd.notnull(mail_verisi)), '')\n",
        "\n",
        "mail_verisi.loc[mail_verisi['Email Type'] =='Safe Email','Email Type'] = 0\n",
        "mail_verisi.loc[mail_verisi['Email Type'] =='Phishing Email','Email Type'] = 1\n"
      ],
      "metadata": {
        "id": "fZK4gKt8EhXk"
      },
      "execution_count": null,
      "outputs": []
    },
    {
      "cell_type": "markdown",
      "source": [
        "#Tokenizer"
      ],
      "metadata": {
        "id": "QhyZd2wRG0zI"
      }
    },
    {
      "cell_type": "code",
      "source": [
        "x = mail_verisi['Email Text']\n",
        "y = mail_verisi['Email Type']\n"
      ],
      "metadata": {
        "id": "0vyVNzNnG3la"
      },
      "execution_count": null,
      "outputs": []
    },
    {
      "cell_type": "code",
      "source": [
        "from tensorflow.keras.preprocessing.text import Tokenizer\n",
        "from tensorflow.keras.preprocessing.sequence import pad_sequences\n",
        "tokenizer = Tokenizer()\n",
        "tokenizer.fit_on_texts(x)\n",
        "indeksli_veri = tokenizer.texts_to_sequences(x)\n",
        "\n",
        "word_index = tokenizer.word_index\n",
        "kelime_uzunluğu = 100\n",
        "sabit_uzunluk = pad_sequences(indeksli_veri,maxlen=kelime_uzunluğu)\n"
      ],
      "metadata": {
        "id": "YB2ev39PHCuo"
      },
      "execution_count": null,
      "outputs": []
    },
    {
      "cell_type": "code",
      "source": [
        "y = to_categorical(y)\n",
        "print(\"Kelime İndexleri\", word_index)\n",
        "\n"
      ],
      "metadata": {
        "colab": {
          "base_uri": "https://localhost:8080/"
        },
        "id": "MA3wzdSkIGm1",
        "outputId": "7d81e7f9-e70f-48c3-ec51-ed129670082e"
      },
      "execution_count": null,
      "outputs": []
    },
    {
      "cell_type": "markdown",
      "source": [
        "#RNN"
      ],
      "metadata": {
        "id": "0ZAIaX-bKRw3"
      }
    },
    {
      "cell_type": "code",
      "source": [
        "X_train,X_test,y_train,y_test = train_test_split(sabit_uzunluk,y,test_size=0.2,random_state=1)\n"
      ],
      "metadata": {
        "id": "S0vkKb0vI-H4"
      },
      "execution_count": null,
      "outputs": []
    },
    {
      "cell_type": "code",
      "source": [
        "from tensorflow.keras.layers import Embedding\n",
        "model=Sequential()\n",
        "model.add(Embedding(len(word_index)+1,output_dim=128,input_length=kelime_uzunluğu))\n",
        "model.add(SimpleRNN(64,activation=\"relu\"))\n",
        "model.add(Dense(2,activation=\"softmax\"))\n",
        "model.compile(optimizer=\"adam\",loss=\"categorical_crossentropy\",metrics=[\"accuracy\"])"
      ],
      "metadata": {
        "colab": {
          "base_uri": "https://localhost:8080/"
        },
        "id": "qXAkGyHKJQHq",
        "outputId": "6e3f24af-03df-4d86-b193-af7fbbfe94d9"
      },
      "execution_count": null,
      "outputs": [
        {
          "output_type": "stream",
          "name": "stderr",
          "text": [
            "/usr/local/lib/python3.11/dist-packages/keras/src/layers/core/embedding.py:90: UserWarning: Argument `input_length` is deprecated. Just remove it.\n",
            "  warnings.warn(\n"
          ]
        }
      ]
    },
    {
      "cell_type": "code",
      "source": [
        "model.fit(X_train,y_train,epochs=5,batch_size=32,validation_data=(X_test,y_test))\n"
      ],
      "metadata": {
        "colab": {
          "base_uri": "https://localhost:8080/"
        },
        "id": "CIfchiBoKqXI",
        "outputId": "ca246ab3-1686-4c76-ba48-59198615d2ca"
      },
      "execution_count": null,
      "outputs": [
        {
          "output_type": "stream",
          "name": "stdout",
          "text": [
            "Epoch 1/5\n",
            "\u001b[1m467/467\u001b[0m \u001b[32m━━━━━━━━━━━━━━━━━━━━\u001b[0m\u001b[37m\u001b[0m \u001b[1m175s\u001b[0m 366ms/step - accuracy: 0.7704 - loss: 0.4347 - val_accuracy: 0.9523 - val_loss: 0.1677\n",
            "Epoch 2/5\n",
            "\u001b[1m467/467\u001b[0m \u001b[32m━━━━━━━━━━━━━━━━━━━━\u001b[0m\u001b[37m\u001b[0m \u001b[1m210s\u001b[0m 383ms/step - accuracy: 0.9744 - loss: 0.0785 - val_accuracy: 0.9523 - val_loss: 0.1126\n",
            "Epoch 3/5\n",
            "\u001b[1m467/467\u001b[0m \u001b[32m━━━━━━━━━━━━━━━━━━━━\u001b[0m\u001b[37m\u001b[0m \u001b[1m173s\u001b[0m 371ms/step - accuracy: 0.9800 - loss: 0.0502 - val_accuracy: 0.9552 - val_loss: 0.1456\n",
            "Epoch 4/5\n",
            "\u001b[1m467/467\u001b[0m \u001b[32m━━━━━━━━━━━━━━━━━━━━\u001b[0m\u001b[37m\u001b[0m \u001b[1m201s\u001b[0m 369ms/step - accuracy: 0.9837 - loss: 0.0385 - val_accuracy: 0.9217 - val_loss: 0.1978\n",
            "Epoch 5/5\n",
            "\u001b[1m467/467\u001b[0m \u001b[32m━━━━━━━━━━━━━━━━━━━━\u001b[0m\u001b[37m\u001b[0m \u001b[1m184s\u001b[0m 393ms/step - accuracy: 0.9841 - loss: 0.0315 - val_accuracy: 0.9450 - val_loss: 0.1492\n"
          ]
        },
        {
          "output_type": "execute_result",
          "data": {
            "text/plain": [
              "<keras.src.callbacks.history.History at 0x7c84bc42d450>"
            ]
          },
          "metadata": {},
          "execution_count": 8
        }
      ]
    },
    {
      "cell_type": "code",
      "source": [
        "model.save(model_yolu)\n"
      ],
      "metadata": {
        "colab": {
          "base_uri": "https://localhost:8080/"
        },
        "id": "x9VqZyqLP3dA",
        "outputId": "06b03261-5391-45bc-e8de-af3f305be3f6"
      },
      "execution_count": null,
      "outputs": [
        {
          "output_type": "stream",
          "name": "stderr",
          "text": [
            "WARNING:absl:You are saving your model as an HDF5 file via `model.save()` or `keras.saving.save_model(model)`. This file format is considered legacy. We recommend using instead the native Keras format, e.g. `model.save('my_model.keras')` or `keras.saving.save_model(model, 'my_model.keras')`. \n"
          ]
        }
      ]
    },
    {
      "cell_type": "code",
      "source": [
        "import numpy as np\n",
        "while True:\n",
        "  giris= input(\"maili girin\")\n",
        "  sayısal_kelime=tokenizer.texts_to_sequences([giris])\n",
        "  sabit_uzunluk = pad_sequences(sayısal_kelime, maxlen=kelime_uzunluğu)\n",
        "  tahmin = model.predict(sabit_uzunluk)\n",
        "  if np.argmax(tahmin)==1:\n",
        "    print(Fore.RED, 'Bu bir kimlik avı emaili olabilir')\n",
        "  else:\n",
        "    print(Fore.GREEN, 'Bu güvenli emailidir.')\n",
        "    print(Fore.WHITE, 'Doğruluk puanı:', tahmin[0][np.argmax(tahmin)])\n",
        "  break\n",
        "\n"
      ],
      "metadata": {
        "colab": {
          "base_uri": "https://localhost:8080/"
        },
        "id": "ruzZG_pBQPgv",
        "outputId": "dd1add3b-cf3d-4ce0-b842-af2e131cf616"
      },
      "execution_count": null,
      "outputs": [
        {
          "output_type": "stream",
          "name": "stdout",
          "text": [
            "maili girinre : meeting on feb 8 , 2001 dear mr . nur azmin abu bakar , thanks for your prompt reply . please , let us know how many members of your team will visit enron . i look forward to our meeting on february 8 . vince kaminski azminab @ petronas . com . my on 01 / 02 / 2001 06 : 38 : 33 pm to : vince . j . kaminski @ enron . com , khairuddinbmjaafar @ petronas . com . my , shirley . crenshaw @ enron . com cc : subject : re : meeting on feb 8 , 2001 dear kaminski , happy new year and thank you for the reply . we are honored to have lunch with you and your team however we have another appointment at 2 . 30 p . m . regards vince . j . kaminski @ enron . com on 03 / 01 / 2001 07 : 38 : 19 am to : azminab @ petronas . com . my cc : vince . j . kaminski @ enron . com , shirley . crenshaw @ enron . com subject : meeting on feb 8 , 2001 dear sir , i would like to apologize for the delay in responding to your fax . i was on vacation for the last few days . i shall be honored to meet your delegation on thursday , february 8 at 10 : 00 a . m . please , let me know if you will be free for lunch after the meeting . vince kaminski\n",
            "\u001b[1m1/1\u001b[0m \u001b[32m━━━━━━━━━━━━━━━━━━━━\u001b[0m\u001b[37m\u001b[0m \u001b[1m0s\u001b[0m 42ms/step\n",
            "\u001b[32m Bu güvenli emailidir.\n",
            "\u001b[37m Doğruluk puanı: 0.9999999\n"
          ]
        }
      ]
    }
  ]
}