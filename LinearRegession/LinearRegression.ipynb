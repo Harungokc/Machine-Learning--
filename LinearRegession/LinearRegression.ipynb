{
  "nbformat": 4,
  "nbformat_minor": 0,
  "metadata": {
    "colab": {
      "provenance": []
    },
    "kernelspec": {
      "name": "python3",
      "display_name": "Python 3"
    },
    "language_info": {
      "name": "python"
    }
  },
  "cells": [
    {
      "cell_type": "code",
      "execution_count": null,
      "metadata": {
        "colab": {
          "base_uri": "https://localhost:8080/"
        },
        "id": "hGsgD8mjllMT",
        "outputId": "8b611b21-a529-4302-dac9-f89df34d5aee"
      },
      "outputs": [
        {
          "output_type": "stream",
          "name": "stdout",
          "text": [
            "Drive already mounted at /content/drive; to attempt to forcibly remount, call drive.mount(\"/content/drive\", force_remount=True).\n"
          ]
        }
      ],
      "source": [
        "from google.colab import drive\n",
        "drive.mount('/content/drive')\n",
        "veri_yol='/content/drive/MyDrive/Advertising.csv'"
      ]
    },
    {
      "cell_type": "code",
      "source": [
        "import pandas as pd\n",
        "from sklearn.linear_model import LinearRegression\n",
        "from sklearn.model_selection import train_test_split\n",
        "from sklearn.metrics import mean_squared_error\n",
        "\n",
        "# Veri setini yükleme\n",
        "veri = pd.read_csv(veri_yol)\n",
        "\n",
        "ortlama = veri.mean()\n",
        "print(ortlama)\n",
        "\n",
        "\n",
        "# Bağımlı ve bağımsız değişkenlere ayırma\n",
        "X = veri[['TV', 'Radio', 'Newspaper']]\n",
        "y = veri['Sales']\n",
        "\n",
        "# Veri setini eğitim ve test kümelerine ayırma\n",
        "X_train, X_test, y_train, y_test = train_test_split(X, y, test_size=0.2, random_state=42)\n",
        "\n",
        "# Regresyon modelini oluşturma ve eğitme\n",
        "model = LinearRegression()\n",
        "model.fit(X_train, y_train)\n",
        "\n",
        "# Test kümesi üzerinde tahmin yapma\n",
        "y_pred = model.predict(X_test)\n",
        "\n",
        "# Modelin performansını değerlendirme\n",
        "mse = mean_squared_error(y_test, y_pred)\n",
        "print(\"Ortalama Kare Hata:\", mse)\n",
        "\n",
        "# Yeni veriler için tahmin yapma (örnek)\n",
        "yeni_veriler = [[100, 50, 25]]  # TV, Radio, Newspaper harcamaları\n",
        "tahmin = model.predict(yeni_veriler)\n",
        "print(\"Tahmin Edilen Satışlar:\", tahmin)"
      ],
      "metadata": {
        "colab": {
          "base_uri": "https://localhost:8080/"
        },
        "id": "o4lZabI4ln9d",
        "outputId": "be7330ac-9574-4e89-9d18-026cc3b27905"
      },
      "execution_count": null,
      "outputs": [
        {
          "output_type": "stream",
          "name": "stdout",
          "text": [
            "Unnamed: 0    100.5000\n",
            "TV            147.0425\n",
            "Radio          23.2640\n",
            "Newspaper      30.5540\n",
            "Sales          14.0225\n",
            "dtype: float64\n",
            "Ortalama Kare Hata: 3.1740973539761033\n",
            "Tahmin Edilen Satışlar: [13.98862608]\n"
          ]
        },
        {
          "output_type": "stream",
          "name": "stderr",
          "text": [
            "/usr/local/lib/python3.11/dist-packages/sklearn/utils/validation.py:2739: UserWarning: X does not have valid feature names, but LinearRegression was fitted with feature names\n",
            "  warnings.warn(\n"
          ]
        }
      ]
    }
  ]
}