{
  "nbformat": 4,
  "nbformat_minor": 0,
  "metadata": {
    "colab": {
      "provenance": []
    },
    "kernelspec": {
      "name": "python3",
      "display_name": "Python 3"
    },
    "language_info": {
      "name": "python"
    }
  },
  "cells": [
    {
      "cell_type": "markdown",
      "source": [
        "#Tokenizer"
      ],
      "metadata": {
        "id": "TREQZfYk3zXv"
      }
    },
    {
      "cell_type": "code",
      "source": [
        "from tensorflow.keras.preprocessing.text import Tokenizer\n",
        "from tensorflow.keras.preprocessing.sequence import pad_sequences\n",
        "\n",
        "veri = [\n",
        "    'Bu bir örnek cümle.',\n",
        "    'Bu bir başka örnek cümle.',\n",
        "    'Bu bir üçüncü örnek cümle'\n",
        "]\n"
      ],
      "metadata": {
        "id": "Te-8F_X633Gy"
      },
      "execution_count": null,
      "outputs": []
    },
    {
      "cell_type": "code",
      "source": [
        "tokenizer = Tokenizer()\n",
        "tokenizer.fit_on_texts(veri)"
      ],
      "metadata": {
        "id": "nqnkxsBe4V1R"
      },
      "execution_count": null,
      "outputs": []
    },
    {
      "cell_type": "code",
      "source": [
        "sayısal_karsilik = tokenizer.texts_to_sequences(veri)\n",
        "print('Kelime indeksleri:', tokenizer.word_index)\n"
      ],
      "metadata": {
        "colab": {
          "base_uri": "https://localhost:8080/"
        },
        "id": "pUPInIPq4fqx",
        "outputId": "0a1fe60e-426a-4653-cbfa-cceeb8d83861"
      },
      "execution_count": null,
      "outputs": [
        {
          "output_type": "stream",
          "name": "stdout",
          "text": [
            "Kelime indeksleri: {'bu': 1, 'bir': 2, 'örnek': 3, 'cümle': 4, 'başka': 5, 'üçüncü': 6}\n"
          ]
        }
      ]
    },
    {
      "cell_type": "code",
      "source": [
        "for sayi in sayısal_karsilik:\n",
        "  print(sayi)"
      ],
      "metadata": {
        "colab": {
          "base_uri": "https://localhost:8080/"
        },
        "id": "40xTarfs5Efo",
        "outputId": "f0bcc654-2d11-4123-a48f-b32a33c4c2e4"
      },
      "execution_count": null,
      "outputs": [
        {
          "output_type": "stream",
          "name": "stdout",
          "text": [
            "[1, 2, 3, 4]\n",
            "[1, 2, 5, 3, 4]\n",
            "[1, 2, 6, 3, 4]\n"
          ]
        }
      ]
    },
    {
      "cell_type": "code",
      "source": [
        "sabit_uzunluk = pad_sequences(sayısal_karsilik, maxlen=5)\n",
        "print(sabit_uzunluk)"
      ],
      "metadata": {
        "colab": {
          "base_uri": "https://localhost:8080/"
        },
        "id": "BexcLxZt6U-n",
        "outputId": "077c4176-a6b0-423b-ea55-449b64b11c92"
      },
      "execution_count": null,
      "outputs": [
        {
          "output_type": "stream",
          "name": "stdout",
          "text": [
            "[[0 1 2 3 4]\n",
            " [1 2 5 3 4]\n",
            " [1 2 6 3 4]]\n"
          ]
        }
      ]
    },
    {
      "cell_type": "markdown",
      "source": [
        "#Embedding"
      ],
      "metadata": {
        "id": "z_6ciLEb62DW"
      }
    },
    {
      "cell_type": "code",
      "source": [
        "from keras.layers import Embedding\n",
        "from keras.models import Sequential\n",
        "import numpy as np"
      ],
      "metadata": {
        "id": "kqXhYW7K_Dsc"
      },
      "execution_count": null,
      "outputs": []
    },
    {
      "cell_type": "code",
      "source": [
        "giris_boyutu=len(tokenizer.word_index)+1\n",
        "boyut=300\n",
        "embdedding_layer=Embedding(input_dim=giris_boyutu,output_dim=boyut,input_length=5)\n",
        "kimlikli_veri=embdedding_layer(np.array(sabit_uzunluk))\n"
      ],
      "metadata": {
        "colab": {
          "base_uri": "https://localhost:8080/"
        },
        "id": "AMiT7y9A_PP3",
        "outputId": "e2213c85-3915-4e72-ed03-531de6f66124"
      },
      "execution_count": null,
      "outputs": [
        {
          "output_type": "stream",
          "name": "stderr",
          "text": [
            "/usr/local/lib/python3.11/dist-packages/keras/src/layers/core/embedding.py:90: UserWarning: Argument `input_length` is deprecated. Just remove it.\n",
            "  warnings.warn(\n"
          ]
        }
      ]
    },
    {
      "cell_type": "code",
      "source": [
        "print('Embedding Katman sonucu:', kimlikli_veri)\n"
      ],
      "metadata": {
        "colab": {
          "base_uri": "https://localhost:8080/"
        },
        "id": "ImQLeKj3AheA",
        "outputId": "5d0f279a-9f81-4f4b-d03e-4284ecad3640"
      },
      "execution_count": null,
      "outputs": [
        {
          "output_type": "stream",
          "name": "stdout",
          "text": [
            "Embedding Katman sonucu: tf.Tensor(\n",
            "[[[-0.03456409  0.02869168  0.02958084 ... -0.03808277  0.01828085\n",
            "    0.00054977]\n",
            "  [ 0.00047658 -0.02799212  0.03426016 ...  0.03799513  0.01543446\n",
            "    0.00830938]\n",
            "  [ 0.04760193  0.01450643 -0.02651408 ... -0.01891311 -0.04131765\n",
            "    0.02046539]\n",
            "  [-0.01298966 -0.01258125 -0.00172354 ...  0.03372258 -0.02991351\n",
            "    0.00601517]\n",
            "  [ 0.02644687 -0.03275388  0.04982126 ... -0.01567386  0.00831228\n",
            "    0.01114267]]\n",
            "\n",
            " [[ 0.00047658 -0.02799212  0.03426016 ...  0.03799513  0.01543446\n",
            "    0.00830938]\n",
            "  [ 0.04760193  0.01450643 -0.02651408 ... -0.01891311 -0.04131765\n",
            "    0.02046539]\n",
            "  [-0.0208672  -0.03582174  0.04365322 ...  0.02267697  0.00981904\n",
            "   -0.0303287 ]\n",
            "  [-0.01298966 -0.01258125 -0.00172354 ...  0.03372258 -0.02991351\n",
            "    0.00601517]\n",
            "  [ 0.02644687 -0.03275388  0.04982126 ... -0.01567386  0.00831228\n",
            "    0.01114267]]\n",
            "\n",
            " [[ 0.00047658 -0.02799212  0.03426016 ...  0.03799513  0.01543446\n",
            "    0.00830938]\n",
            "  [ 0.04760193  0.01450643 -0.02651408 ... -0.01891311 -0.04131765\n",
            "    0.02046539]\n",
            "  [-0.03562431 -0.03349511  0.002079   ... -0.01065359  0.00858369\n",
            "    0.02450604]\n",
            "  [-0.01298966 -0.01258125 -0.00172354 ...  0.03372258 -0.02991351\n",
            "    0.00601517]\n",
            "  [ 0.02644687 -0.03275388  0.04982126 ... -0.01567386  0.00831228\n",
            "    0.01114267]]], shape=(3, 5, 300), dtype=float32)\n"
          ]
        }
      ]
    },
    {
      "cell_type": "code",
      "source": [],
      "metadata": {
        "id": "h3twz7j5AqFZ"
      },
      "execution_count": null,
      "outputs": []
    }
  ]
}